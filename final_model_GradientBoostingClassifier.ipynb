{
 "cells": [
  {
   "cell_type": "code",
   "execution_count": 9,
   "metadata": {},
   "outputs": [],
   "source": [
    "import pandas as pd\n",
    "from sklearn.model_selection import train_test_split\n",
    "from sklearn.preprocessing import StandardScaler\n",
    "import numpy as np"
   ]
  },
  {
   "cell_type": "code",
   "execution_count": 2,
   "metadata": {},
   "outputs": [
    {
     "data": {
      "text/html": [
       "<div>\n",
       "<style scoped>\n",
       "    .dataframe tbody tr th:only-of-type {\n",
       "        vertical-align: middle;\n",
       "    }\n",
       "\n",
       "    .dataframe tbody tr th {\n",
       "        vertical-align: top;\n",
       "    }\n",
       "\n",
       "    .dataframe thead th {\n",
       "        text-align: right;\n",
       "    }\n",
       "</style>\n",
       "<table border=\"1\" class=\"dataframe\">\n",
       "  <thead>\n",
       "    <tr style=\"text-align: right;\">\n",
       "      <th></th>\n",
       "      <th>LIMIT_BAL</th>\n",
       "      <th>PAY_0</th>\n",
       "      <th>PAY_2</th>\n",
       "      <th>PAY_3</th>\n",
       "      <th>PAY_4</th>\n",
       "      <th>PAY_5</th>\n",
       "      <th>PAY_6</th>\n",
       "      <th>BILL_AMT1</th>\n",
       "      <th>BILL_AMT2</th>\n",
       "      <th>BILL_AMT3</th>\n",
       "      <th>...</th>\n",
       "      <th>BILL_AMT3</th>\n",
       "      <th>BILL_AMT4</th>\n",
       "      <th>BILL_AMT5</th>\n",
       "      <th>BILL_AMT6</th>\n",
       "      <th>LIMIT_BAL</th>\n",
       "      <th>SEX</th>\n",
       "      <th>EDUCATION</th>\n",
       "      <th>MARRIAGE</th>\n",
       "      <th>AGE</th>\n",
       "      <th>default.payment.next.month</th>\n",
       "    </tr>\n",
       "  </thead>\n",
       "  <tbody>\n",
       "    <tr>\n",
       "      <th>0</th>\n",
       "      <td>-1.135512</td>\n",
       "      <td>1.791873</td>\n",
       "      <td>1.776654</td>\n",
       "      <td>-0.697265</td>\n",
       "      <td>-0.666863</td>\n",
       "      <td>-1.527923</td>\n",
       "      <td>-1.486255</td>\n",
       "      <td>-0.641203</td>\n",
       "      <td>-0.646339</td>\n",
       "      <td>-0.667135</td>\n",
       "      <td>...</td>\n",
       "      <td>-0.667135</td>\n",
       "      <td>-0.671740</td>\n",
       "      <td>-0.662877</td>\n",
       "      <td>-0.652876</td>\n",
       "      <td>20000.0</td>\n",
       "      <td>2</td>\n",
       "      <td>2</td>\n",
       "      <td>1</td>\n",
       "      <td>24</td>\n",
       "      <td>1</td>\n",
       "    </tr>\n",
       "    <tr>\n",
       "      <th>1</th>\n",
       "      <td>-0.365937</td>\n",
       "      <td>-0.876018</td>\n",
       "      <td>1.776654</td>\n",
       "      <td>0.136226</td>\n",
       "      <td>0.186234</td>\n",
       "      <td>0.232334</td>\n",
       "      <td>1.985406</td>\n",
       "      <td>-0.657981</td>\n",
       "      <td>-0.665755</td>\n",
       "      <td>-0.638302</td>\n",
       "      <td>...</td>\n",
       "      <td>-0.638302</td>\n",
       "      <td>-0.620771</td>\n",
       "      <td>-0.605957</td>\n",
       "      <td>-0.598087</td>\n",
       "      <td>120000.0</td>\n",
       "      <td>2</td>\n",
       "      <td>2</td>\n",
       "      <td>2</td>\n",
       "      <td>26</td>\n",
       "      <td>1</td>\n",
       "    </tr>\n",
       "    <tr>\n",
       "      <th>2</th>\n",
       "      <td>-0.596810</td>\n",
       "      <td>0.013279</td>\n",
       "      <td>0.109462</td>\n",
       "      <td>0.136226</td>\n",
       "      <td>0.186234</td>\n",
       "      <td>0.232334</td>\n",
       "      <td>0.249576</td>\n",
       "      <td>-0.296016</td>\n",
       "      <td>-0.492299</td>\n",
       "      <td>-0.480945</td>\n",
       "      <td>...</td>\n",
       "      <td>-0.480945</td>\n",
       "      <td>-0.448499</td>\n",
       "      <td>-0.416610</td>\n",
       "      <td>-0.391631</td>\n",
       "      <td>90000.0</td>\n",
       "      <td>2</td>\n",
       "      <td>2</td>\n",
       "      <td>2</td>\n",
       "      <td>34</td>\n",
       "      <td>0</td>\n",
       "    </tr>\n",
       "    <tr>\n",
       "      <th>3</th>\n",
       "      <td>-0.904640</td>\n",
       "      <td>0.013279</td>\n",
       "      <td>0.109462</td>\n",
       "      <td>0.136226</td>\n",
       "      <td>0.186234</td>\n",
       "      <td>0.232334</td>\n",
       "      <td>0.249576</td>\n",
       "      <td>-0.054075</td>\n",
       "      <td>-0.009999</td>\n",
       "      <td>0.035991</td>\n",
       "      <td>...</td>\n",
       "      <td>0.035991</td>\n",
       "      <td>-0.230680</td>\n",
       "      <td>-0.185780</td>\n",
       "      <td>-0.156445</td>\n",
       "      <td>50000.0</td>\n",
       "      <td>2</td>\n",
       "      <td>2</td>\n",
       "      <td>1</td>\n",
       "      <td>37</td>\n",
       "      <td>0</td>\n",
       "    </tr>\n",
       "    <tr>\n",
       "      <th>4</th>\n",
       "      <td>-0.904640</td>\n",
       "      <td>-0.876018</td>\n",
       "      <td>0.109462</td>\n",
       "      <td>-0.697265</td>\n",
       "      <td>0.186234</td>\n",
       "      <td>0.232334</td>\n",
       "      <td>0.249576</td>\n",
       "      <td>-0.577089</td>\n",
       "      <td>-0.610131</td>\n",
       "      <td>-0.158677</td>\n",
       "      <td>...</td>\n",
       "      <td>-0.158677</td>\n",
       "      <td>-0.345548</td>\n",
       "      <td>-0.347449</td>\n",
       "      <td>-0.331449</td>\n",
       "      <td>50000.0</td>\n",
       "      <td>1</td>\n",
       "      <td>2</td>\n",
       "      <td>1</td>\n",
       "      <td>57</td>\n",
       "      <td>0</td>\n",
       "    </tr>\n",
       "  </tbody>\n",
       "</table>\n",
       "<p>5 rows × 31 columns</p>\n",
       "</div>"
      ],
      "text/plain": [
       "   LIMIT_BAL     PAY_0     PAY_2     PAY_3     PAY_4     PAY_5     PAY_6  \\\n",
       "0  -1.135512  1.791873  1.776654 -0.697265 -0.666863 -1.527923 -1.486255   \n",
       "1  -0.365937 -0.876018  1.776654  0.136226  0.186234  0.232334  1.985406   \n",
       "2  -0.596810  0.013279  0.109462  0.136226  0.186234  0.232334  0.249576   \n",
       "3  -0.904640  0.013279  0.109462  0.136226  0.186234  0.232334  0.249576   \n",
       "4  -0.904640 -0.876018  0.109462 -0.697265  0.186234  0.232334  0.249576   \n",
       "\n",
       "   BILL_AMT1  BILL_AMT2  BILL_AMT3  ...  BILL_AMT3  BILL_AMT4  BILL_AMT5  \\\n",
       "0  -0.641203  -0.646339  -0.667135  ...  -0.667135  -0.671740  -0.662877   \n",
       "1  -0.657981  -0.665755  -0.638302  ...  -0.638302  -0.620771  -0.605957   \n",
       "2  -0.296016  -0.492299  -0.480945  ...  -0.480945  -0.448499  -0.416610   \n",
       "3  -0.054075  -0.009999   0.035991  ...   0.035991  -0.230680  -0.185780   \n",
       "4  -0.577089  -0.610131  -0.158677  ...  -0.158677  -0.345548  -0.347449   \n",
       "\n",
       "   BILL_AMT6  LIMIT_BAL  SEX  EDUCATION  MARRIAGE  AGE  \\\n",
       "0  -0.652876    20000.0    2          2         1   24   \n",
       "1  -0.598087   120000.0    2          2         2   26   \n",
       "2  -0.391631    90000.0    2          2         2   34   \n",
       "3  -0.156445    50000.0    2          2         1   37   \n",
       "4  -0.331449    50000.0    1          2         1   57   \n",
       "\n",
       "   default.payment.next.month  \n",
       "0                           1  \n",
       "1                           1  \n",
       "2                           0  \n",
       "3                           0  \n",
       "4                           0  \n",
       "\n",
       "[5 rows x 31 columns]"
      ]
     },
     "execution_count": 2,
     "metadata": {},
     "output_type": "execute_result"
    }
   ],
   "source": [
    "df = pd.read_csv('./Data/cleaned_cc_data.csv')\n",
    "df.head()\n",
    "\n",
    "cc_data_scaled = StandardScaler().fit_transform(df[[\"LIMIT_BAL\", \"PAY_0\", \"PAY_2\", \"PAY_3\", \"PAY_4\", \"PAY_5\", \"PAY_6\", \"BILL_AMT1\", \"BILL_AMT2\", \"BILL_AMT3\", \"BILL_AMT4\", \"BILL_AMT5\", \"BILL_AMT6\", \"PAY_AMT1\", \"PAY_AMT2\", \"PAY_AMT3\", \"PAY_AMT4\", \"PAY_AMT5\", \"PAY_AMT6\", \"BILL_AMT1\", \"BILL_AMT2\", \"BILL_AMT3\", \"BILL_AMT4\", \"BILL_AMT5\", \"BILL_AMT6\"]])\n",
    "# Use original column names for the scaled data and concatenate with the columns left out from scaling\n",
    "cc_data_scaled = pd.DataFrame(cc_data_scaled, columns=[\"LIMIT_BAL\", \"PAY_0\", \"PAY_2\", \"PAY_3\", \"PAY_4\", \"PAY_5\", \"PAY_6\", \"BILL_AMT1\", \"BILL_AMT2\", \"BILL_AMT3\", \"BILL_AMT4\", \"BILL_AMT5\", \"BILL_AMT6\", \"PAY_AMT1\", \"PAY_AMT2\", \"PAY_AMT3\", \"PAY_AMT4\", \"PAY_AMT5\", \"PAY_AMT6\", \"BILL_AMT1\", \"BILL_AMT2\", \"BILL_AMT3\", \"BILL_AMT4\", \"BILL_AMT5\", \"BILL_AMT6\"])\n",
    "cc_data_scaled = pd.concat([cc_data_scaled, df[[\"LIMIT_BAL\",\"SEX\",\"EDUCATION\",\"MARRIAGE\",\"AGE\",\"default.payment.next.month\"]]], join='inner',  axis=1)\n",
    "cc_data_scaled.head()\n",
    "\n"
   ]
  },
  {
   "cell_type": "code",
   "execution_count": 3,
   "metadata": {},
   "outputs": [
    {
     "data": {
      "text/plain": [
       "default.payment.next.month\n",
       "0    22996\n",
       "1     6605\n",
       "Name: count, dtype: int64"
      ]
     },
     "execution_count": 3,
     "metadata": {},
     "output_type": "execute_result"
    }
   ],
   "source": [
    "cc_data_scaled.value_counts('default.payment.next.month')"
   ]
  },
  {
   "cell_type": "code",
   "execution_count": 4,
   "metadata": {},
   "outputs": [],
   "source": [
    "# Split the features and target using default.payment.next.month as the target\n",
    "X = df.drop('default.payment.next.month', axis=1)\n",
    "y = df['default.payment.next.month']\n",
    "target_names = ['No Default', 'Default']\n"
   ]
  },
  {
   "cell_type": "code",
   "execution_count": 5,
   "metadata": {},
   "outputs": [],
   "source": [
    "# Prepare the data\n",
    "X_train, X_test, y_train, y_test = train_test_split(X, y, random_state=1)\n"
   ]
  },
  {
   "cell_type": "code",
   "execution_count": 6,
   "metadata": {},
   "outputs": [],
   "source": [
    "# Import Gradient Boosting classifier .\n",
    "from sklearn.ensemble import GradientBoostingClassifier"
   ]
  },
  {
   "cell_type": "code",
   "execution_count": 7,
   "metadata": {},
   "outputs": [
    {
     "name": "stdout",
     "output_type": "stream",
     "text": [
      "Training Score: 0.8238288288288288\n",
      "Testing Score: 0.8262396973381976\n"
     ]
    }
   ],
   "source": [
    "# Train the Gradient Boosting classifier\n",
    "clf = GradientBoostingClassifier(random_state=1).fit(X_train, y_train)\n",
    "\n",
    "# Evaluate the model\n",
    "print(f'Training Score: {clf.score(X_train, y_train)}')\n",
    "print(f'Testing Score: {clf.score(X_test, y_test)}')"
   ]
  },
  {
   "cell_type": "code",
   "execution_count": 10,
   "metadata": {},
   "outputs": [
    {
     "data": {
      "image/png": "[encoded data removed]",
      "text/plain": [
       "<Figure size 640x480 with 1 Axes>"
      ]
     },
     "metadata": {},
     "output_type": "display_data"
    }
   ],
   "source": [
    "import matplotlib.pyplot as plt\n",
    "\n",
    "# Get feature importances\n",
    "importances = clf.feature_importances_\n",
    "\n",
    "# Sort feature importances in descending order\n",
    "indices = np.argsort(importances)[::-1]\n",
    "\n",
    "# Rearrange feature names so they match the sorted feature importances\n",
    "names = [X.columns[i] for i in indices]\n",
    "\n",
    "# Create plot\n",
    "plt.figure()\n",
    "\n",
    "# Create plot title\n",
    "plt.title(\"Feature Importance\")\n",
    "\n",
    "# Add bars\n",
    "plt.bar(range(X.shape[1]), importances[indices])\n",
    "\n",
    "# Add feature names as x-axis labels\n",
    "plt.xticks(range(X.shape[1]), names, rotation=90)\n",
    "\n",
    "# Show plot\n",
    "plt.show()\n"
   ]
  }
 ],
 "metadata": {
  "kernelspec": {
   "display_name": "base",
   "language": "python",
   "name": "python3"
  },
  "language_info": {
   "codemirror_mode": {
    "name": "ipython",
    "version": 3
   },
   "file_extension": ".py",
   "mimetype": "text/x-python",
   "name": "python",
   "nbconvert_exporter": "python",
   "pygments_lexer": "ipython3",
   "version": "3.11.5"
  }
 },
 "nbformat": 4,
 "nbformat_minor": 2
}
